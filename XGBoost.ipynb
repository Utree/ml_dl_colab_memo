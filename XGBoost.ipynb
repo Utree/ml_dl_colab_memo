{
  "nbformat": 4,
  "nbformat_minor": 0,
  "metadata": {
    "colab": {
      "name": "XGBoost.ipynb",
      "version": "0.3.2",
      "provenance": [],
      "include_colab_link": true
    },
    "kernelspec": {
      "name": "python3",
      "display_name": "Python 3"
    }
  },
  "cells": [
    {
      "cell_type": "markdown",
      "metadata": {
        "id": "view-in-github",
        "colab_type": "text"
      },
      "source": [
        "<a href=\"https://colab.research.google.com/github/Utree/ml_dl_colab_memo/blob/master/XGBoost.ipynb\" target=\"_parent\"><img src=\"https://colab.research.google.com/assets/colab-badge.svg\" alt=\"Open In Colab\"/></a>"
      ]
    },
    {
      "metadata": {
        "id": "7kLubxvRghKu",
        "colab_type": "text"
      },
      "cell_type": "markdown",
      "source": [
        "# Otto Group Product Classification Challengeコンペの１位カーネル\n",
        "\n",
        "#Understanding XGBoost Model on Otto Dataを読む"
      ]
    },
    {
      "metadata": {
        "id": "SGhBwc-Xhi3P",
        "colab_type": "text"
      },
      "cell_type": "markdown",
      "source": [
        "## XGBoost\n",
        "勾配ブースティングマシンのフレームワーク\n",
        "\n",
        "アンサンブル学習にはバギングとブースティングという２つの手法がある。\n",
        "\n",
        "バギングでは、モデルの平均を取る\n",
        "\n",
        "ブースティングでは、モデルを逐次更新する\n",
        "\n",
        "更新する際、データにかける重みを元にするAdaBoostや損失関数の勾配情報を最小化する勾配ブースティングがある\n",
        "\n",
        "勾配ブースティングの中でも、C++で高速実装したものをXGboostと呼ぶ"
      ]
    }
  ]
}